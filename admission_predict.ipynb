{
  "nbformat": 4,
  "nbformat_minor": 0,
  "metadata": {
    "colab": {
      "provenance": [],
      "toc_visible": true,
      "authorship_tag": "ABX9TyOCDV2WYTx8XUxSuimM1+Mr",
      "include_colab_link": true
    },
    "kernelspec": {
      "name": "python3",
      "display_name": "Python 3"
    }
  },
  "cells": [
    {
      "cell_type": "markdown",
      "metadata": {
        "id": "view-in-github",
        "colab_type": "text"
      },
      "source": [
        "<a href=\"https://colab.research.google.com/github/prashantmane091318/ML/blob/main/admission_predict.ipynb\" target=\"_parent\"><img src=\"https://colab.research.google.com/assets/colab-badge.svg\" alt=\"Open In Colab\"/></a>"
      ]
    },
    {
      "cell_type": "code",
      "metadata": {
        "id": "LknN2C6es0o1"
      },
      "source": [
        "import pandas as pd"
      ],
      "execution_count": null,
      "outputs": []
    },
    {
      "cell_type": "code",
      "metadata": {
        "id": "Kn9p0HlqtKKm"
      },
      "source": [
        "import tensorflow as tf"
      ],
      "execution_count": null,
      "outputs": []
    },
    {
      "cell_type": "code",
      "metadata": {
        "id": "JovI5obetOK8"
      },
      "source": [
        "df=pd.read_csv(\"/content/sample_data/Admission_Predict.csv\")"
      ],
      "execution_count": null,
      "outputs": []
    },
    {
      "cell_type": "code",
      "metadata": {
        "id": "QRW41PactjcS",
        "colab": {
          "base_uri": "https://localhost:8080/",
          "height": 204
        },
        "outputId": "9942e147-4084-4883-dde0-6ca3626a80ba"
      },
      "source": [
        "df.head()"
      ],
      "execution_count": null,
      "outputs": [
        {
          "output_type": "execute_result",
          "data": {
            "text/html": [
              "<div>\n",
              "<style scoped>\n",
              "    .dataframe tbody tr th:only-of-type {\n",
              "        vertical-align: middle;\n",
              "    }\n",
              "\n",
              "    .dataframe tbody tr th {\n",
              "        vertical-align: top;\n",
              "    }\n",
              "\n",
              "    .dataframe thead th {\n",
              "        text-align: right;\n",
              "    }\n",
              "</style>\n",
              "<table border=\"1\" class=\"dataframe\">\n",
              "  <thead>\n",
              "    <tr style=\"text-align: right;\">\n",
              "      <th></th>\n",
              "      <th>Serial No.</th>\n",
              "      <th>GRE Score</th>\n",
              "      <th>TOEFL Score</th>\n",
              "      <th>University Rating</th>\n",
              "      <th>SOP</th>\n",
              "      <th>LOR</th>\n",
              "      <th>CGPA</th>\n",
              "      <th>Research</th>\n",
              "      <th>Chance of Admit</th>\n",
              "    </tr>\n",
              "  </thead>\n",
              "  <tbody>\n",
              "    <tr>\n",
              "      <th>0</th>\n",
              "      <td>1</td>\n",
              "      <td>337</td>\n",
              "      <td>118</td>\n",
              "      <td>4</td>\n",
              "      <td>4.5</td>\n",
              "      <td>4.5</td>\n",
              "      <td>9.65</td>\n",
              "      <td>1</td>\n",
              "      <td>0.92</td>\n",
              "    </tr>\n",
              "    <tr>\n",
              "      <th>1</th>\n",
              "      <td>2</td>\n",
              "      <td>324</td>\n",
              "      <td>107</td>\n",
              "      <td>4</td>\n",
              "      <td>4.0</td>\n",
              "      <td>4.5</td>\n",
              "      <td>8.87</td>\n",
              "      <td>1</td>\n",
              "      <td>0.76</td>\n",
              "    </tr>\n",
              "    <tr>\n",
              "      <th>2</th>\n",
              "      <td>3</td>\n",
              "      <td>316</td>\n",
              "      <td>104</td>\n",
              "      <td>3</td>\n",
              "      <td>3.0</td>\n",
              "      <td>3.5</td>\n",
              "      <td>8.00</td>\n",
              "      <td>1</td>\n",
              "      <td>0.72</td>\n",
              "    </tr>\n",
              "    <tr>\n",
              "      <th>3</th>\n",
              "      <td>4</td>\n",
              "      <td>322</td>\n",
              "      <td>110</td>\n",
              "      <td>3</td>\n",
              "      <td>3.5</td>\n",
              "      <td>2.5</td>\n",
              "      <td>8.67</td>\n",
              "      <td>1</td>\n",
              "      <td>0.80</td>\n",
              "    </tr>\n",
              "    <tr>\n",
              "      <th>4</th>\n",
              "      <td>5</td>\n",
              "      <td>314</td>\n",
              "      <td>103</td>\n",
              "      <td>2</td>\n",
              "      <td>2.0</td>\n",
              "      <td>3.0</td>\n",
              "      <td>8.21</td>\n",
              "      <td>0</td>\n",
              "      <td>0.65</td>\n",
              "    </tr>\n",
              "  </tbody>\n",
              "</table>\n",
              "</div>"
            ],
            "text/plain": [
              "   Serial No.  GRE Score  TOEFL Score  ...  CGPA  Research  Chance of Admit\n",
              "0           1        337          118  ...  9.65         1             0.92\n",
              "1           2        324          107  ...  8.87         1             0.76\n",
              "2           3        316          104  ...  8.00         1             0.72\n",
              "3           4        322          110  ...  8.67         1             0.80\n",
              "4           5        314          103  ...  8.21         0             0.65\n",
              "\n",
              "[5 rows x 9 columns]"
            ]
          },
          "metadata": {
            "tags": []
          },
          "execution_count": 5
        }
      ]
    },
    {
      "cell_type": "code",
      "metadata": {
        "id": "q8y3iCP8tk4j",
        "colab": {
          "base_uri": "https://localhost:8080/",
          "height": 71
        },
        "outputId": "078e9f87-4484-462f-cb89-795e3f76ee1e"
      },
      "source": [
        "import seaborn as sns"
      ],
      "execution_count": null,
      "outputs": [
        {
          "output_type": "stream",
          "text": [
            "/usr/local/lib/python3.6/dist-packages/statsmodels/tools/_testing.py:19: FutureWarning: pandas.util.testing is deprecated. Use the functions in the public API at pandas.testing instead.\n",
            "  import pandas.util.testing as tm\n"
          ],
          "name": "stderr"
        }
      ]
    },
    {
      "cell_type": "code",
      "metadata": {
        "id": "6GXg2nbutrxm"
      },
      "source": [
        "import matplotlib.pyplot as plt"
      ],
      "execution_count": null,
      "outputs": []
    },
    {
      "cell_type": "code",
      "metadata": {
        "id": "RpfqPL67tybz",
        "colab": {
          "base_uri": "https://localhost:8080/",
          "height": 296
        },
        "outputId": "6e0504ce-58ab-4077-92ee-6e531cb42d19"
      },
      "source": [
        "sns.distplot(df[\"Chance of Admit\"])"
      ],
      "execution_count": null,
      "outputs": [
        {
          "output_type": "execute_result",
          "data": {
            "text/plain": [
              "<matplotlib.axes._subplots.AxesSubplot at 0x7f2c6f5edb38>"
            ]
          },
          "metadata": {
            "tags": []
          },
          "execution_count": 8
        },
        {
          "output_type": "display_data",
          "data": {
            "image/png": "[encoded data removed]",
            "text/plain": [
              "<Figure size 432x288 with 1 Axes>"
            ]
          },
          "metadata": {
            "tags": [],
            "needs_background": "light"
          }
        }
      ]
    },
    {
      "cell_type": "code",
      "metadata": {
        "id": "6QnFgkgOt7zz",
        "colab": {
          "base_uri": "https://localhost:8080/",
          "height": 300
        },
        "outputId": "bcbb9989-20af-4209-e6c0-f0f8ebc77ece"
      },
      "source": [
        "sns.scatterplot(x=df[\"University Rating\"],y=df[\"Chance of Admit\"])"
      ],
      "execution_count": null,
      "outputs": [
        {
          "output_type": "execute_result",
          "data": {
            "text/plain": [
              "<matplotlib.axes._subplots.AxesSubplot at 0x7f2c6f55ac88>"
            ]
          },
          "metadata": {
            "tags": []
          },
          "execution_count": 9
        },
        {
          "output_type": "display_data",
          "data": {
            "image/png": "[encoded data removed]",
            "text/plain": [
              "<Figure size 432x288 with 1 Axes>"
            ]
          },
          "metadata": {
            "tags": [],
            "needs_background": "light"
          }
        }
      ]
    },
    {
      "cell_type": "code",
      "metadata": {
        "id": "sqXtrRF1uHwH",
        "colab": {
          "base_uri": "https://localhost:8080/",
          "height": 289
        },
        "outputId": "045a066a-3389-4b5d-f6c2-7899f68286e6"
      },
      "source": [
        "df.info()"
      ],
      "execution_count": null,
      "outputs": [
        {
          "output_type": "stream",
          "text": [
            "<class 'pandas.core.frame.DataFrame'>\n",
            "RangeIndex: 500 entries, 0 to 499\n",
            "Data columns (total 9 columns):\n",
            " #   Column             Non-Null Count  Dtype  \n",
            "---  ------             --------------  -----  \n",
            " 0   Serial No.         500 non-null    int64  \n",
            " 1   GRE Score          500 non-null    int64  \n",
            " 2   TOEFL Score        500 non-null    int64  \n",
            " 3   University Rating  500 non-null    int64  \n",
            " 4   SOP                500 non-null    float64\n",
            " 5   LOR                500 non-null    float64\n",
            " 6   CGPA               500 non-null    float64\n",
            " 7   Research           500 non-null    int64  \n",
            " 8   Chance of Admit    500 non-null    float64\n",
            "dtypes: float64(4), int64(5)\n",
            "memory usage: 35.3 KB\n"
          ],
          "name": "stdout"
        }
      ]
    },
    {
      "cell_type": "code",
      "metadata": {
        "id": "lPHzg_Oquu8L",
        "colab": {
          "base_uri": "https://localhost:8080/",
          "height": 68
        },
        "outputId": "feec4871-e422-4a4d-d675-6b9eacfffcf3"
      },
      "source": [
        "df.columns"
      ],
      "execution_count": null,
      "outputs": [
        {
          "output_type": "execute_result",
          "data": {
            "text/plain": [
              "Index(['Serial No.', 'GRE Score', 'TOEFL Score', 'University Rating', 'SOP',\n",
              "       'LOR ', 'CGPA', 'Research', 'Chance of Admit'],\n",
              "      dtype='object')"
            ]
          },
          "metadata": {
            "tags": []
          },
          "execution_count": 11
        }
      ]
    },
    {
      "cell_type": "code",
      "metadata": {
        "id": "WMwSDgAQu1K3",
        "colab": {
          "base_uri": "https://localhost:8080/",
          "height": 187
        },
        "outputId": "d595280e-6ea0-47e0-fdf0-e38081ac84a5"
      },
      "source": [
        "df.corr()[\"Chance of Admit\"]"
      ],
      "execution_count": null,
      "outputs": [
        {
          "output_type": "execute_result",
          "data": {
            "text/plain": [
              "Serial No.           0.008505\n",
              "GRE Score            0.810351\n",
              "TOEFL Score          0.792228\n",
              "University Rating    0.690132\n",
              "SOP                  0.684137\n",
              "LOR                  0.645365\n",
              "CGPA                 0.882413\n",
              "Research             0.545871\n",
              "Chance of Admit      1.000000\n",
              "Name: Chance of Admit, dtype: float64"
            ]
          },
          "metadata": {
            "tags": []
          },
          "execution_count": 12
        }
      ]
    },
    {
      "cell_type": "code",
      "metadata": {
        "id": "ZUWLLt7hu7D3"
      },
      "source": [
        "x=df[['GRE Score', 'TOEFL Score', 'University Rating', 'SOP',\n",
        "       'LOR ', 'CGPA']]"
      ],
      "execution_count": null,
      "outputs": []
    },
    {
      "cell_type": "code",
      "metadata": {
        "id": "AXrBjCPgvILd",
        "colab": {
          "base_uri": "https://localhost:8080/",
          "height": 204
        },
        "outputId": "ddf6bef7-2235-45cc-ce34-19d63a9ee01b"
      },
      "source": [
        "x.head()"
      ],
      "execution_count": null,
      "outputs": [
        {
          "output_type": "execute_result",
          "data": {
            "text/html": [
              "<div>\n",
              "<style scoped>\n",
              "    .dataframe tbody tr th:only-of-type {\n",
              "        vertical-align: middle;\n",
              "    }\n",
              "\n",
              "    .dataframe tbody tr th {\n",
              "        vertical-align: top;\n",
              "    }\n",
              "\n",
              "    .dataframe thead th {\n",
              "        text-align: right;\n",
              "    }\n",
              "</style>\n",
              "<table border=\"1\" class=\"dataframe\">\n",
              "  <thead>\n",
              "    <tr style=\"text-align: right;\">\n",
              "      <th></th>\n",
              "      <th>GRE Score</th>\n",
              "      <th>TOEFL Score</th>\n",
              "      <th>University Rating</th>\n",
              "      <th>SOP</th>\n",
              "      <th>LOR</th>\n",
              "      <th>CGPA</th>\n",
              "    </tr>\n",
              "  </thead>\n",
              "  <tbody>\n",
              "    <tr>\n",
              "      <th>0</th>\n",
              "      <td>337</td>\n",
              "      <td>118</td>\n",
              "      <td>4</td>\n",
              "      <td>4.5</td>\n",
              "      <td>4.5</td>\n",
              "      <td>9.65</td>\n",
              "    </tr>\n",
              "    <tr>\n",
              "      <th>1</th>\n",
              "      <td>324</td>\n",
              "      <td>107</td>\n",
              "      <td>4</td>\n",
              "      <td>4.0</td>\n",
              "      <td>4.5</td>\n",
              "      <td>8.87</td>\n",
              "    </tr>\n",
              "    <tr>\n",
              "      <th>2</th>\n",
              "      <td>316</td>\n",
              "      <td>104</td>\n",
              "      <td>3</td>\n",
              "      <td>3.0</td>\n",
              "      <td>3.5</td>\n",
              "      <td>8.00</td>\n",
              "    </tr>\n",
              "    <tr>\n",
              "      <th>3</th>\n",
              "      <td>322</td>\n",
              "      <td>110</td>\n",
              "      <td>3</td>\n",
              "      <td>3.5</td>\n",
              "      <td>2.5</td>\n",
              "      <td>8.67</td>\n",
              "    </tr>\n",
              "    <tr>\n",
              "      <th>4</th>\n",
              "      <td>314</td>\n",
              "      <td>103</td>\n",
              "      <td>2</td>\n",
              "      <td>2.0</td>\n",
              "      <td>3.0</td>\n",
              "      <td>8.21</td>\n",
              "    </tr>\n",
              "  </tbody>\n",
              "</table>\n",
              "</div>"
            ],
            "text/plain": [
              "   GRE Score  TOEFL Score  University Rating  SOP  LOR   CGPA\n",
              "0        337          118                  4  4.5   4.5  9.65\n",
              "1        324          107                  4  4.0   4.5  8.87\n",
              "2        316          104                  3  3.0   3.5  8.00\n",
              "3        322          110                  3  3.5   2.5  8.67\n",
              "4        314          103                  2  2.0   3.0  8.21"
            ]
          },
          "metadata": {
            "tags": []
          },
          "execution_count": 14
        }
      ]
    },
    {
      "cell_type": "code",
      "metadata": {
        "id": "FbHo853DvN96"
      },
      "source": [
        "y=df[\"Chance of Admit\"]"
      ],
      "execution_count": null,
      "outputs": []
    },
    {
      "cell_type": "code",
      "metadata": {
        "id": "WbaVvRl9vRcD"
      },
      "source": [
        "from sklearn.model_selection import train_test_split"
      ],
      "execution_count": null,
      "outputs": []
    },
    {
      "cell_type": "code",
      "metadata": {
        "id": "byvpXZCUvowJ"
      },
      "source": [
        "xtrain,xtest,ytrain,ytest=train_test_split(x,y,test_size=0.25,random_state=0)"
      ],
      "execution_count": null,
      "outputs": []
    },
    {
      "cell_type": "code",
      "metadata": {
        "id": "nNQeU3B7vz0D",
        "colab": {
          "base_uri": "https://localhost:8080/",
          "height": 34
        },
        "outputId": "aa461a43-86b3-49f8-ddcb-4d1139adc84d"
      },
      "source": [
        "xtrain.shape,ytrain.shape,xtest.shape,ytest.shape"
      ],
      "execution_count": null,
      "outputs": [
        {
          "output_type": "execute_result",
          "data": {
            "text/plain": [
              "((375, 6), (375,), (125, 6), (125,))"
            ]
          },
          "metadata": {
            "tags": []
          },
          "execution_count": 18
        }
      ]
    },
    {
      "cell_type": "code",
      "metadata": {
        "id": "S5iyvONov1Gh"
      },
      "source": [
        "from sklearn.preprocessing import StandardScaler"
      ],
      "execution_count": null,
      "outputs": []
    },
    {
      "cell_type": "code",
      "metadata": {
        "id": "sZp67vkIwLIM"
      },
      "source": [
        "scale=StandardScaler()"
      ],
      "execution_count": null,
      "outputs": []
    },
    {
      "cell_type": "code",
      "metadata": {
        "id": "DEh7iw-bwPOu"
      },
      "source": [
        "x_train_scale=scale.fit_transform(xtrain)"
      ],
      "execution_count": null,
      "outputs": []
    },
    {
      "cell_type": "code",
      "metadata": {
        "id": "mcyUQQvHwXgd",
        "colab": {
          "base_uri": "https://localhost:8080/",
          "height": 238
        },
        "outputId": "545ad6a4-b10e-460b-c420-f12d261b82c1"
      },
      "source": [
        "x_train_scale"
      ],
      "execution_count": null,
      "outputs": [
        {
          "output_type": "execute_result",
          "data": {
            "text/plain": [
              "array([[-1.57884335, -1.17111757, -1.88482457, -1.93767618, -1.65378367,\n",
              "        -1.17809274],\n",
              "       [-0.51077434, -0.52858782, -1.00789006, -1.4382751 , -1.65378367,\n",
              "        -0.50111652],\n",
              "       [ 0.46828893, -0.68922025,  0.74597895, -0.43947295, -1.11167801,\n",
              "        -0.96344174],\n",
              "       ...,\n",
              "       [-2.37989511, -0.52858782,  0.74597895, -1.4382751 , -1.11167801,\n",
              "        -1.8880922 ],\n",
              "       [ 1.9813867 ,  1.88089878,  1.62291346,  1.05873029,  0.51463898,\n",
              "         1.81050963],\n",
              "       [ 0.46828893,  0.43520682,  0.74597895,  0.55932921,  1.5988503 ,\n",
              "         0.86934755]])"
            ]
          },
          "metadata": {
            "tags": []
          },
          "execution_count": 22
        }
      ]
    },
    {
      "cell_type": "code",
      "metadata": {
        "id": "Vetd_dX0wZcs",
        "colab": {
          "base_uri": "https://localhost:8080/",
          "height": 34
        },
        "outputId": "42c05023-8b06-405b-c0ae-14053bf224c3"
      },
      "source": [
        "x_train_scale.shape"
      ],
      "execution_count": null,
      "outputs": [
        {
          "output_type": "execute_result",
          "data": {
            "text/plain": [
              "(375, 6)"
            ]
          },
          "metadata": {
            "tags": []
          },
          "execution_count": 23
        }
      ]
    },
    {
      "cell_type": "code",
      "metadata": {
        "id": "euc8NKB0wcWl"
      },
      "source": [
        "x_test_scale=scale.transform(xtest)"
      ],
      "execution_count": null,
      "outputs": []
    },
    {
      "cell_type": "code",
      "metadata": {
        "id": "WWPfugaHwqCa",
        "colab": {
          "base_uri": "https://localhost:8080/",
          "height": 1000
        },
        "outputId": "faf6c16e-abb2-4570-8738-61f4e294ca12"
      },
      "source": [
        "x_test_scale"
      ],
      "execution_count": null,
      "outputs": [
        {
          "output_type": "execute_result",
          "data": {
            "text/plain": [
              "array([[ 0.11226592, -0.20732294, -1.00789006,  0.55932921,  0.51463898,\n",
              "        -1.1285579 ],\n",
              "       [ 0.37928317,  1.07773658,  0.74597895,  0.55932921,  1.5988503 ,\n",
              "         0.85283594],\n",
              "       [ 0.37928317,  0.59583926, -0.13095555, -0.93887403, -0.56957235,\n",
              "         0.4895804 ],\n",
              "       [ 1.00232343,  1.39900146,  1.62291346,  1.05873029,  1.5988503 ,\n",
              "         0.78678948],\n",
              "       [-1.40083185, -0.84985269, -0.13095555, -0.93887403, -1.65378367,\n",
              "        -0.78181398],\n",
              "       [-0.24375708, -0.36795538, -0.13095555,  0.05992813, -1.11167801,\n",
              "        -0.50111652],\n",
              "       [-1.6678491 , -1.01048513, -1.00789006, -1.93767618, -1.65378367,\n",
              "        -1.22762759],\n",
              "       [-1.3118261 ,  0.43520682, -0.13095555,  0.55932921,  1.05674464,\n",
              "        -0.17088421],\n",
              "       [-1.75685485, -1.17111757, -1.88482457, -1.93767618, -1.65378367,\n",
              "        -1.16158113],\n",
              "       [ 0.64630043, -0.36795538, -0.13095555, -0.43947295,  0.51463898,\n",
              "         0.24190617],\n",
              "       [ 0.02326017, -0.68922025, -1.00789006, -0.93887403, -1.65378367,\n",
              "        -0.74879075],\n",
              "       [ 0.29027742, -0.52858782, -0.13095555, -0.43947295, -1.11167801,\n",
              "        -0.0553029 ],\n",
              "       [-0.24375708, -0.84985269, -1.00789006, -1.4382751 , -1.11167801,\n",
              "        -0.60018621],\n",
              "       [-0.33276283,  0.27457438, -0.13095555,  0.55932921, -0.02746669,\n",
              "         0.65469655],\n",
              "       [ 1.53635794,  1.5596339 ,  1.62291346,  0.55932921,  1.05674464,\n",
              "         0.77027786],\n",
              "       [-1.75685485, -1.81364733, -1.00789006, -0.93887403, -2.19588934,\n",
              "        -1.17809274],\n",
              "       [ 0.55729468,  0.43520682,  0.74597895,  0.55932921,  1.5988503 ,\n",
              "         0.45655717],\n",
              "       [ 0.02326017, -0.20732294, -1.00789006, -1.4382751 , -0.02746669,\n",
              "        -0.79832559],\n",
              "       [ 0.82431193,  0.11394194, -0.13095555, -0.43947295, -0.02746669,\n",
              "         0.47306879],\n",
              "       [-1.4898376 , -0.36795538, -1.88482457, -2.43707726, -1.65378367,\n",
              "        -1.32669728],\n",
              "       [-1.93486636, -1.33175001, -1.00789006, -0.93887403, -0.56957235,\n",
              "        -1.57437151],\n",
              "       [ 0.29027742, -0.52858782, -0.13095555,  0.05992813,  1.05674464,\n",
              "        -0.43507006],\n",
              "       [-1.8458606 , -1.01048513, -1.88482457, -0.93887403, -0.56957235,\n",
              "        -1.52483667],\n",
              "       [ 1.26934069,  1.39900146,  1.62291346,  1.55813136,  1.5988503 ,\n",
              "         1.28213794],\n",
              "       [ 0.46828893,  0.43520682,  1.62291346,  1.55813136,  0.51463898,\n",
              "         0.81981271],\n",
              "       [ 0.11226592,  0.43520682, -1.88482457, -0.93887403, -0.02746669,\n",
              "        -0.10483775],\n",
              "       [ 0.73530618,  1.07773658,  0.74597895, -0.43947295, -1.65378367,\n",
              "        -0.33600036],\n",
              "       [-0.51077434, -1.49238245, -1.88482457, -2.43707726, -1.11167801,\n",
              "        -1.8880922 ],\n",
              "       [-0.95580309, -1.17111757, -1.00789006, -0.43947295, -0.56957235,\n",
              "        -0.99646498],\n",
              "       [-1.1338146 , -1.17111757, -1.00789006, -0.93887403, -0.02746669,\n",
              "        -0.88088367],\n",
              "       [-0.06574558, -0.68922025, -1.00789006, -1.4382751 ,  1.05674464,\n",
              "         0.22539456],\n",
              "       [-1.8458606 , -1.33175001, -1.00789006, -0.43947295, -0.02746669,\n",
              "        -2.18530128],\n",
              "       [-1.40083185, -0.20732294,  0.74597895, -0.93887403, -0.56957235,\n",
              "        -0.22041906],\n",
              "       [ 0.55729468,  0.43520682,  1.62291346,  0.55932921,  1.5988503 ,\n",
              "         0.62167332],\n",
              "       [-0.15475133, -0.36795538, -1.00789006, -1.4382751 , -1.11167801,\n",
              "        -1.57437151],\n",
              "       [-1.6678491 , -1.01048513,  0.74597895, -0.93887403,  1.05674464,\n",
              "        -1.50832505],\n",
              "       [ 1.00232343,  0.11394194,  0.74597895,  1.05873029,  0.51463898,\n",
              "         0.95190563],\n",
              "       [ 0.64630043,  0.91710414,  0.74597895,  1.05873029,  1.05674464,\n",
              "         1.06748694],\n",
              "       [-1.4898376 , -0.84985269, -0.13095555,  0.05992813, -1.11167801,\n",
              "        -0.71576752],\n",
              "       [-0.59978009, -0.52858782, -0.13095555, -1.4382751 , -0.02746669,\n",
              "        -0.38553521],\n",
              "       [-0.24375708, -0.0466905 , -1.00789006, -0.93887403,  0.51463898,\n",
              "        -0.55065136],\n",
              "       [ 1.09132918,  1.07773658,  1.62291346,  0.55932921,  1.5988503 ,\n",
              "         1.15004501],\n",
              "       [ 1.18033493,  1.39900146,  0.74597895,  0.55932921, -0.02746669,\n",
              "         1.03446371],\n",
              "       [-0.06574558,  0.43520682, -0.13095555,  0.05992813,  0.51463898,\n",
              "        -0.07181452],\n",
              "       [ 0.91331768,  0.7564717 , -0.13095555, -0.43947295, -0.56957235,\n",
              "         0.19237133],\n",
              "       [ 0.64630043, -0.0466905 ,  0.74597895,  0.55932921,  1.05674464,\n",
              "         0.44004556],\n",
              "       [ 1.44735219,  1.88089878,  1.62291346,  1.55813136,  1.05674464,\n",
              "         1.94260255],\n",
              "       [ 0.82431193,  1.39900146, -0.13095555,  0.05992813,  0.51463898,\n",
              "         0.88585917],\n",
              "       [-0.68878584,  0.59583926, -1.00789006, -0.93887403,  0.51463898,\n",
              "        -0.94693013],\n",
              "       [-0.24375708, -0.20732294, -1.00789006,  0.55932921, -0.02746669,\n",
              "        -0.58367459],\n",
              "       [-0.95580309, -0.68922025, -1.00789006, -0.93887403, -0.56957235,\n",
              "        -0.40204682],\n",
              "       [-0.42176859, -1.01048513, -1.00789006, -0.93887403, -0.02746669,\n",
              "        -0.93041851],\n",
              "       [-1.04480884, -0.68922025, -1.00789006, -0.93887403, -0.02746669,\n",
              "        -0.78181398],\n",
              "       [ 0.73530618,  0.7564717 , -1.00789006, -0.43947295, -0.02746669,\n",
              "         0.58865009],\n",
              "       [-0.68878584, -0.36795538,  1.62291346,  0.05992813, -0.02746669,\n",
              "        -0.07181452],\n",
              "       [ 1.00232343,  0.7564717 ,  0.74597895,  0.55932921,  1.05674464,\n",
              "         0.81981271],\n",
              "       [-1.93486636, -1.01048513, -1.00789006, -0.93887403, -1.65378367,\n",
              "        -1.22762759],\n",
              "       [ 0.55729468,  0.91710414,  0.74597895,  0.55932921,  1.05674464,\n",
              "         1.03446371],\n",
              "       [-1.04480884, -0.36795538, -1.00789006, -0.43947295, -1.65378367,\n",
              "        -0.61669782],\n",
              "       [-0.77779159, -0.20732294, -0.13095555, -0.43947295, -0.56957235,\n",
              "        -0.60018621],\n",
              "       [-1.8458606 , -1.97427977, -1.00789006, -0.43947295, -1.65378367,\n",
              "        -1.75599928],\n",
              "       [ 1.09132918,  0.91710414,  1.62291346,  1.55813136,  1.05674464,\n",
              "         1.39771924],\n",
              "       [-0.86679734, -0.36795538, -1.00789006, -1.4382751 , -0.02746669,\n",
              "        -0.83134882],\n",
              "       [ 0.55729468,  0.59583926,  1.62291346,  0.55932921,  1.5988503 ,\n",
              "         2.07469547],\n",
              "       [ 0.20127167,  0.11394194, -1.00789006, -0.93887403, -0.56957235,\n",
              "         0.25841779],\n",
              "       [-0.95580309, -0.36795538, -1.00789006, -0.43947295, -1.11167801,\n",
              "        -0.56716298],\n",
              "       [ 0.73530618, -0.20732294, -0.13095555,  0.05992813,  0.51463898,\n",
              "        -0.33600036],\n",
              "       [ 0.82431193,  1.07773658,  0.74597895,  0.55932921, -0.02746669,\n",
              "         0.9188824 ],\n",
              "       [-1.57884335, -1.81364733, -1.00789006, -1.93767618, -1.65378367,\n",
              "        -1.22762759],\n",
              "       [ 1.09132918,  1.07773658, -1.00789006, -1.4382751 ,  0.51463898,\n",
              "        -0.07181452],\n",
              "       [ 1.26934069,  1.23836902,  1.62291346,  0.55932921, -0.02746669,\n",
              "         1.38120763],\n",
              "       [ 0.73530618,  0.7564717 ,  0.74597895,  0.05992813, -0.02746669,\n",
              "         0.52260363],\n",
              "       [-0.42176859, -0.0466905 , -0.13095555, -0.43947295, -0.56957235,\n",
              "        -0.23693067],\n",
              "       [ 0.02326017, -0.20732294, -0.13095555,  0.05992813, -0.56957235,\n",
              "        -1.17809274],\n",
              "       [ 0.29027742,  0.59583926,  0.74597895,  1.05873029, -0.02746669,\n",
              "         0.44004556],\n",
              "       [ 1.89238094,  1.23836902,  1.62291346,  1.05873029,  1.5988503 ,\n",
              "         1.03446371],\n",
              "       [ 0.73530618,  0.43520682, -1.00789006, -0.43947295, -1.11167801,\n",
              "         0.25841779],\n",
              "       [ 0.46828893, -0.0466905 , -0.13095555,  0.05992813, -0.02746669,\n",
              "        -0.23693067],\n",
              "       [-1.75685485, -1.33175001,  0.74597895, -0.43947295, -0.02746669,\n",
              "        -1.31018567],\n",
              "       [ 0.02326017, -1.17111757, -1.00789006, -0.43947295, -1.11167801,\n",
              "        -0.0553029 ],\n",
              "       [-0.68878584, -0.20732294, -1.00789006, -0.93887403, -1.11167801,\n",
              "        -0.99646498],\n",
              "       [ 0.82431193,  0.59583926,  1.62291346,  1.05873029,  0.51463898,\n",
              "         1.03446371],\n",
              "       [-1.4898376 , -1.01048513, -0.13095555,  0.05992813, -1.11167801,\n",
              "        -1.19460436],\n",
              "       [-0.42176859, -0.52858782, -0.13095555,  0.05992813, -0.02746669,\n",
              "        -0.30297713],\n",
              "       [ 0.91331768,  0.91710414, -0.13095555,  0.05992813, -0.56957235,\n",
              "         0.09330163],\n",
              "       [-1.57884335, -1.17111757, -0.13095555, -1.4382751 , -1.65378367,\n",
              "        -0.96344174],\n",
              "       [ 0.37928317,  0.7564717 , -0.13095555, -0.43947295,  1.05674464,\n",
              "         0.57213848],\n",
              "       [-0.68878584, -0.52858782, -1.00789006, -1.4382751 , -1.11167801,\n",
              "        -0.56716298],\n",
              "       [-1.3118261 , -1.33175001, -1.88482457, -1.4382751 , -1.65378367,\n",
              "        -2.23483612],\n",
              "       [ 0.46828893,  0.43520682, -0.13095555, -0.43947295, -0.02746669,\n",
              "        -0.99646498],\n",
              "       [-0.33276283, -0.68922025, -0.13095555,  0.55932921,  0.51463898,\n",
              "         0.24190617],\n",
              "       [ 0.64630043,  0.27457438, -0.13095555,  0.05992813, -0.56957235,\n",
              "         0.55562686],\n",
              "       [-0.51077434, -1.33175001, -1.88482457, -0.93887403, -0.56957235,\n",
              "        -0.28646552],\n",
              "       [ 0.02326017, -0.68922025, -0.13095555, -0.93887403, -0.56957235,\n",
              "        -0.10483775],\n",
              "       [-0.86679734, -0.84985269, -0.13095555, -0.43947295, -0.56957235,\n",
              "        -0.55065136],\n",
              "       [ 1.71436944,  1.88089878,  0.74597895,  1.05873029,  0.51463898,\n",
              "         1.6784167 ],\n",
              "       [-0.06574558, -0.84985269, -0.13095555, -1.4382751 , -0.56957235,\n",
              "        -1.98716189],\n",
              "       [-1.04480884, -0.52858782, -1.00789006, -0.93887403, -2.19588934,\n",
              "        -1.3432089 ],\n",
              "       [-0.68878584, -1.17111757, -1.00789006, -0.43947295, -0.56957235,\n",
              "        -0.83134882],\n",
              "       [-1.04480884, -0.20732294, -1.00789006, -0.43947295, -0.56957235,\n",
              "        -0.73227913],\n",
              "       [ 1.89238094,  1.5596339 ,  0.74597895,  0.05992813,  1.05674464,\n",
              "         1.41423086],\n",
              "       [ 0.20127167,  0.43520682, -0.13095555, -0.43947295, -1.11167801,\n",
              "         0.30795263],\n",
              "       [ 1.71436944,  0.7564717 ,  1.62291346,  1.55813136,  1.5988503 ,\n",
              "         1.90957932],\n",
              "       [-0.77779159, -0.36795538,  0.74597895, -0.43947295, -1.11167801,\n",
              "        -1.07902305],\n",
              "       [ 0.37928317,  0.27457438, -0.13095555, -0.43947295,  0.51463898,\n",
              "        -0.66623267],\n",
              "       [-0.24375708, -0.84985269,  0.74597895, -0.93887403, -1.65378367,\n",
              "        -1.19460436],\n",
              "       [ 0.29027742,  0.43520682, -1.00789006,  0.55932921, -0.02746669,\n",
              "        -0.07181452],\n",
              "       [ 0.73530618,  0.7564717 ,  0.74597895,  0.55932921,  1.05674464,\n",
              "         0.93539401],\n",
              "       [-1.04480884,  0.7564717 , -0.13095555, -0.43947295, -0.02746669,\n",
              "         0.07679002],\n",
              "       [-0.42176859,  0.27457438, -0.13095555, -0.43947295, -0.56957235,\n",
              "         0.14283648],\n",
              "       [-2.02387211, -1.97427977, -1.88482457, -1.93767618, -2.19588934,\n",
              "        -1.59088313],\n",
              "       [-0.77779159, -1.01048513, -1.00789006, -0.43947295,  0.51463898,\n",
              "        -1.16158113],\n",
              "       [-0.06574558, -1.17111757, -1.00789006, -1.93767618, -0.56957235,\n",
              "        -0.73227913],\n",
              "       [-1.3118261 , -0.84985269, -1.88482457, -1.4382751 , -2.19588934,\n",
              "        -0.99646498],\n",
              "       [-1.1338146 , -0.0466905 , -0.13095555,  0.05992813, -0.56957235,\n",
              "        -1.22762759],\n",
              "       [ 0.64630043,  0.7564717 ,  0.74597895,  1.05873029,  0.51463898,\n",
              "         1.01795209],\n",
              "       [-1.1338146 , -1.01048513, -1.00789006, -1.4382751 , -1.11167801,\n",
              "        -1.5578599 ],\n",
              "       [ 2.07039245,  0.7564717 ,  0.74597895,  1.55813136,  1.05674464,\n",
              "         1.74446316],\n",
              "       [ 0.73530618,  0.11394194,  0.74597895,  1.05873029,  0.51463898,\n",
              "         0.75376625],\n",
              "       [ 1.26934069,  1.23836902,  1.62291346,  1.05873029, -0.02746669,\n",
              "         1.24911471],\n",
              "       [-0.51077434, -0.52858782, -0.13095555,  0.55932921, -0.02746669,\n",
              "        -0.78181398],\n",
              "       [ 0.91331768,  0.59583926,  0.74597895, -0.43947295,  0.51463898,\n",
              "        -0.33600036],\n",
              "       [ 1.44735219,  0.91710414,  1.62291346,  0.55932921,  0.51463898,\n",
              "         1.11702178],\n",
              "       [ 1.18033493,  1.07773658,  0.74597895,  1.05873029, -0.56957235,\n",
              "         0.93539401],\n",
              "       [ 0.02326017, -1.01048513, -0.13095555, -0.43947295, -1.65378367,\n",
              "        -1.09553467]])"
            ]
          },
          "metadata": {
            "tags": []
          },
          "execution_count": 25
        }
      ]
    },
    {
      "cell_type": "code",
      "metadata": {
        "id": "2bDhDNknwspj",
        "colab": {
          "base_uri": "https://localhost:8080/",
          "height": 34
        },
        "outputId": "532b99bb-930d-42b1-9955-2f877dc46989"
      },
      "source": [
        "x_test_scale.shape"
      ],
      "execution_count": null,
      "outputs": [
        {
          "output_type": "execute_result",
          "data": {
            "text/plain": [
              "(125, 6)"
            ]
          },
          "metadata": {
            "tags": []
          },
          "execution_count": 26
        }
      ]
    },
    {
      "cell_type": "code",
      "metadata": {
        "id": "L8hk9skWw2bs",
        "colab": {
          "base_uri": "https://localhost:8080/",
          "height": 34
        },
        "outputId": "2caaa984-ca3e-4ede-f6e0-e2756ab162c0"
      },
      "source": [
        "ytrain.shape"
      ],
      "execution_count": null,
      "outputs": [
        {
          "output_type": "execute_result",
          "data": {
            "text/plain": [
              "(375,)"
            ]
          },
          "metadata": {
            "tags": []
          },
          "execution_count": 27
        }
      ]
    },
    {
      "cell_type": "code",
      "metadata": {
        "id": "pzvu7d5BxW9L"
      },
      "source": [
        "import numpy as np"
      ],
      "execution_count": null,
      "outputs": []
    },
    {
      "cell_type": "code",
      "metadata": {
        "id": "vCr_UM6-UlcD"
      },
      "source": [
        "ytrain=np.array(ytrain)"
      ],
      "execution_count": null,
      "outputs": []
    },
    {
      "cell_type": "code",
      "metadata": {
        "id": "ZK5rCRNkUrhw"
      },
      "source": [
        "ytrain=ytrain.reshape(-1,1)"
      ],
      "execution_count": null,
      "outputs": []
    },
    {
      "cell_type": "code",
      "metadata": {
        "id": "k45lGH6CU6ti",
        "colab": {
          "base_uri": "https://localhost:8080/",
          "height": 34
        },
        "outputId": "42f20262-322c-42e8-9f0c-c0689d6738f9"
      },
      "source": [
        "ytrain.shape"
      ],
      "execution_count": null,
      "outputs": [
        {
          "output_type": "execute_result",
          "data": {
            "text/plain": [
              "(375, 1)"
            ]
          },
          "metadata": {
            "tags": []
          },
          "execution_count": 31
        }
      ]
    },
    {
      "cell_type": "code",
      "metadata": {
        "id": "LgKMl29iU-8E"
      },
      "source": [
        "ytest=np.array(ytest)"
      ],
      "execution_count": null,
      "outputs": []
    },
    {
      "cell_type": "code",
      "metadata": {
        "id": "6n3uXXkpVD0k"
      },
      "source": [
        "ytest=ytest.reshape(-1,1)"
      ],
      "execution_count": null,
      "outputs": []
    },
    {
      "cell_type": "code",
      "metadata": {
        "id": "gzpuuz8kVEPp"
      },
      "source": [
        "scale1=StandardScaler()"
      ],
      "execution_count": null,
      "outputs": []
    },
    {
      "cell_type": "code",
      "metadata": {
        "id": "QCBsCJXlVEpX"
      },
      "source": [
        "ytrain_scale=scale1.fit_transform(ytrain)"
      ],
      "execution_count": null,
      "outputs": []
    },
    {
      "cell_type": "code",
      "metadata": {
        "id": "1exLydL8Vffd"
      },
      "source": [
        "ytest_scale=scale1.transform(ytest)"
      ],
      "execution_count": null,
      "outputs": []
    },
    {
      "cell_type": "code",
      "metadata": {
        "id": "nWbz3CREVf60",
        "colab": {
          "base_uri": "https://localhost:8080/",
          "height": 1000
        },
        "outputId": "284da547-d241-4d7b-c40b-a67f898cc144"
      },
      "source": [
        "ytest_scale"
      ],
      "execution_count": null,
      "outputs": [
        {
          "output_type": "execute_result",
          "data": {
            "text/plain": [
              "array([[-0.60804348],\n",
              "       [ 0.87166679],\n",
              "       [ 0.51935482],\n",
              "       [ 1.29444115],\n",
              "       [-0.32619391],\n",
              "       [-1.31266742],\n",
              "       [-1.31266742],\n",
              "       [-0.53758109],\n",
              "       [-1.45359221],\n",
              "       [ 0.44889242],\n",
              "       [-0.53758109],\n",
              "       [ 0.09658045],\n",
              "       [-0.60804348],\n",
              "       [ 0.44889242],\n",
              "       [ 1.15351636],\n",
              "       [-2.08775376],\n",
              "       [ 0.58981721],\n",
              "       [ 0.02611806],\n",
              "       [ 0.51935482],\n",
              "       [-1.03081785],\n",
              "       [-1.10128024],\n",
              "       [ 0.09658045],\n",
              "       [-0.88989306],\n",
              "       [ 1.43536594],\n",
              "       [ 1.08305397],\n",
              "       [-0.3966563 ],\n",
              "       [-0.18526912],\n",
              "       [-1.10128024],\n",
              "       [-1.73544179],\n",
              "       [-0.60804348],\n",
              "       [-0.25573152],\n",
              "       [-1.80590418],\n",
              "       [-1.10128024],\n",
              "       [ 1.01259158],\n",
              "       [-2.36960333],\n",
              "       [-1.38312982],\n",
              "       [ 0.80120439],\n",
              "       [ 1.15351636],\n",
              "       [-0.67850588],\n",
              "       [-0.18526912],\n",
              "       [-0.04434433],\n",
              "       [ 0.94212918],\n",
              "       [ 1.29444115],\n",
              "       [ 0.16704285],\n",
              "       [ 0.09658045],\n",
              "       [ 0.23750524],\n",
              "       [ 1.64675312],\n",
              "       [ 0.58981721],\n",
              "       [-0.88989306],\n",
              "       [-0.74896827],\n",
              "       [-0.25573152],\n",
              "       [-0.32619391],\n",
              "       [-0.96035545],\n",
              "       [ 0.51935482],\n",
              "       [-0.11480673],\n",
              "       [ 0.37843003],\n",
              "       [-0.25573152],\n",
              "       [ 1.15351636],\n",
              "       [-0.3966563 ],\n",
              "       [-1.03081785],\n",
              "       [-2.01729136],\n",
              "       [ 1.15351636],\n",
              "       [-1.38312982],\n",
              "       [ 1.36490355],\n",
              "       [-0.4671187 ],\n",
              "       [ 0.02611806],\n",
              "       [-1.45359221],\n",
              "       [ 0.94212918],\n",
              "       [-1.31266742],\n",
              "       [-0.04434433],\n",
              "       [ 1.36490355],\n",
              "       [-1.24220503],\n",
              "       [ 0.16704285],\n",
              "       [ 0.02611806],\n",
              "       [ 0.87166679],\n",
              "       [ 1.29444115],\n",
              "       [ 0.16704285],\n",
              "       [-0.11480673],\n",
              "       [-1.31266742],\n",
              "       [-0.32619391],\n",
              "       [-0.74896827],\n",
              "       [ 1.08305397],\n",
              "       [-0.96035545],\n",
              "       [ 0.09658045],\n",
              "       [ 0.51935482],\n",
              "       [-0.67850588],\n",
              "       [ 0.30796764],\n",
              "       [-0.53758109],\n",
              "       [-1.10128024],\n",
              "       [-0.18526912],\n",
              "       [ 0.23750524],\n",
              "       [ 0.37843003],\n",
              "       [-0.11480673],\n",
              "       [ 0.02611806],\n",
              "       [ 0.02611806],\n",
              "       [ 1.57629073],\n",
              "       [-0.60804348],\n",
              "       [-1.38312982],\n",
              "       [-1.73544179],\n",
              "       [-0.60804348],\n",
              "       [ 1.29444115],\n",
              "       [-0.04434433],\n",
              "       [ 1.64675312],\n",
              "       [-0.3966563 ],\n",
              "       [ 0.16704285],\n",
              "       [-0.96035545],\n",
              "       [-0.04434433],\n",
              "       [ 0.87166679],\n",
              "       [-0.11480673],\n",
              "       [ 0.30796764],\n",
              "       [-1.66497939],\n",
              "       [-0.32619391],\n",
              "       [-0.11480673],\n",
              "       [-1.594517  ],\n",
              "       [-1.10128024],\n",
              "       [ 0.94212918],\n",
              "       [-2.44006573],\n",
              "       [ 1.50582833],\n",
              "       [ 0.44889242],\n",
              "       [ 1.43536594],\n",
              "       [ 0.09658045],\n",
              "       [ 0.37843003],\n",
              "       [ 1.15351636],\n",
              "       [ 0.94212918],\n",
              "       [-1.66497939]])"
            ]
          },
          "metadata": {
            "tags": []
          },
          "execution_count": 37
        }
      ]
    },
    {
      "cell_type": "code",
      "metadata": {
        "id": "ThfxFe1oVgYM"
      },
      "source": [],
      "execution_count": null,
      "outputs": []
    },
    {
      "cell_type": "code",
      "metadata": {
        "id": "rXNZSgFhxdMM"
      },
      "source": [
        "hidden_layer1=tf.keras.layers.Dense(100,activation=\"relu\",input_shape=(6,))"
      ],
      "execution_count": null,
      "outputs": []
    },
    {
      "cell_type": "code",
      "metadata": {
        "id": "F0FP3S8l0Nxk"
      },
      "source": [
        "hidden_layer2=tf.keras.layers.Dense(150,activation=\"relu\")"
      ],
      "execution_count": null,
      "outputs": []
    },
    {
      "cell_type": "code",
      "metadata": {
        "id": "RgBN1J_6WJJL"
      },
      "source": [
        "hidden_layer3=tf.keras.layers.Dense(150,activation=\"relu\")"
      ],
      "execution_count": null,
      "outputs": []
    },
    {
      "cell_type": "code",
      "metadata": {
        "id": "0Slx7OSWWVT7"
      },
      "source": [
        "hidden_layer4=tf.keras.layers.Dense(50,activation=\"linear\")"
      ],
      "execution_count": null,
      "outputs": []
    },
    {
      "cell_type": "code",
      "metadata": {
        "id": "km0I24XT1PoK"
      },
      "source": [
        "output_layer=tf.keras.layers.Dense(1)"
      ],
      "execution_count": null,
      "outputs": []
    },
    {
      "cell_type": "code",
      "metadata": {
        "id": "-WfyXYen1oRU"
      },
      "source": [
        "model=tf.keras.models.Sequential()"
      ],
      "execution_count": null,
      "outputs": []
    },
    {
      "cell_type": "code",
      "metadata": {
        "id": "6axeDTtH1wL6"
      },
      "source": [
        "model.add(hidden_layer1)"
      ],
      "execution_count": null,
      "outputs": []
    },
    {
      "cell_type": "code",
      "metadata": {
        "id": "_DdmX-az1yvi"
      },
      "source": [
        "model.add(hidden_layer2)"
      ],
      "execution_count": null,
      "outputs": []
    },
    {
      "cell_type": "code",
      "metadata": {
        "id": "xwNhtwaQ15TZ"
      },
      "source": [
        "model.add(hidden_layer3)"
      ],
      "execution_count": null,
      "outputs": []
    },
    {
      "cell_type": "code",
      "metadata": {
        "id": "UtyzjEe3W0kR"
      },
      "source": [
        "model.add(hidden_layer4)"
      ],
      "execution_count": null,
      "outputs": []
    },
    {
      "cell_type": "code",
      "metadata": {
        "id": "dvzFngNG4eZL"
      },
      "source": [
        "model.add(output_layer)"
      ],
      "execution_count": null,
      "outputs": []
    },
    {
      "cell_type": "code",
      "metadata": {
        "id": "XC7emuaT19dU",
        "colab": {
          "base_uri": "https://localhost:8080/",
          "height": 323
        },
        "outputId": "7ae58e60-e339-4892-a678-7c5ddd368ca9"
      },
      "source": [
        "model.summary()"
      ],
      "execution_count": null,
      "outputs": [
        {
          "output_type": "stream",
          "text": [
            "Model: \"sequential\"\n",
            "_________________________________________________________________\n",
            "Layer (type)                 Output Shape              Param #   \n",
            "=================================================================\n",
            "dense (Dense)                (None, 100)               700       \n",
            "_________________________________________________________________\n",
            "dense_1 (Dense)              (None, 150)               15150     \n",
            "_________________________________________________________________\n",
            "dense_2 (Dense)              (None, 150)               22650     \n",
            "_________________________________________________________________\n",
            "dense_3 (Dense)              (None, 50)                7550      \n",
            "_________________________________________________________________\n",
            "dense_4 (Dense)              (None, 1)                 51        \n",
            "=================================================================\n",
            "Total params: 46,101\n",
            "Trainable params: 46,101\n",
            "Non-trainable params: 0\n",
            "_________________________________________________________________\n"
          ],
          "name": "stdout"
        }
      ]
    },
    {
      "cell_type": "code",
      "metadata": {
        "id": "8ZOzpQT21_gZ"
      },
      "source": [
        "model.compile(optimizer=\"adam\",loss=\"mse\")"
      ],
      "execution_count": null,
      "outputs": []
    },
    {
      "cell_type": "code",
      "metadata": {
        "id": "R5M7oEkW2hkm",
        "colab": {
          "base_uri": "https://localhost:8080/",
          "height": 1000
        },
        "outputId": "e2c96b20-513e-4f33-84bc-f6c6ca28c770"
      },
      "source": [
        "model.fit(x_train_scale,ytrain,batch_size=20,epochs=100,validation_data=(x_test_scale,ytest))"
      ],
      "execution_count": null,
      "outputs": [
        {
          "output_type": "stream",
          "text": [
            "Epoch 1/100\n",
            "19/19 [==============================] - 0s 11ms/step - loss: 0.1689 - val_loss: 0.0735\n",
            "Epoch 2/100\n",
            "19/19 [==============================] - 0s 4ms/step - loss: 0.0438 - val_loss: 0.0260\n",
            "Epoch 3/100\n",
            "19/19 [==============================] - 0s 4ms/step - loss: 0.0213 - val_loss: 0.0171\n",
            "Epoch 4/100\n",
            "19/19 [==============================] - 0s 4ms/step - loss: 0.0130 - val_loss: 0.0118\n",
            "Epoch 5/100\n",
            "19/19 [==============================] - 0s 4ms/step - loss: 0.0091 - val_loss: 0.0090\n",
            "Epoch 6/100\n",
            "19/19 [==============================] - 0s 4ms/step - loss: 0.0063 - val_loss: 0.0070\n",
            "Epoch 7/100\n",
            "19/19 [==============================] - 0s 4ms/step - loss: 0.0044 - val_loss: 0.0067\n",
            "Epoch 8/100\n",
            "19/19 [==============================] - 0s 4ms/step - loss: 0.0037 - val_loss: 0.0060\n",
            "Epoch 9/100\n",
            "19/19 [==============================] - 0s 4ms/step - loss: 0.0029 - val_loss: 0.0057\n",
            "Epoch 10/100\n",
            "19/19 [==============================] - 0s 5ms/step - loss: 0.0027 - val_loss: 0.0052\n",
            "Epoch 11/100\n",
            "19/19 [==============================] - 0s 4ms/step - loss: 0.0024 - val_loss: 0.0052\n",
            "Epoch 12/100\n",
            "19/19 [==============================] - 0s 4ms/step - loss: 0.0023 - val_loss: 0.0055\n",
            "Epoch 13/100\n",
            "19/19 [==============================] - 0s 4ms/step - loss: 0.0020 - val_loss: 0.0053\n",
            "Epoch 14/100\n",
            "19/19 [==============================] - 0s 4ms/step - loss: 0.0021 - val_loss: 0.0052\n",
            "Epoch 15/100\n",
            "19/19 [==============================] - 0s 4ms/step - loss: 0.0017 - val_loss: 0.0052\n",
            "Epoch 16/100\n",
            "19/19 [==============================] - 0s 4ms/step - loss: 0.0017 - val_loss: 0.0052\n",
            "Epoch 17/100\n",
            "19/19 [==============================] - 0s 4ms/step - loss: 0.0016 - val_loss: 0.0049\n",
            "Epoch 18/100\n",
            "19/19 [==============================] - 0s 4ms/step - loss: 0.0015 - val_loss: 0.0052\n",
            "Epoch 19/100\n",
            "19/19 [==============================] - 0s 4ms/step - loss: 0.0015 - val_loss: 0.0049\n",
            "Epoch 20/100\n",
            "19/19 [==============================] - 0s 4ms/step - loss: 0.0013 - val_loss: 0.0052\n",
            "Epoch 21/100\n",
            "19/19 [==============================] - 0s 4ms/step - loss: 0.0012 - val_loss: 0.0049\n",
            "Epoch 22/100\n",
            "19/19 [==============================] - 0s 4ms/step - loss: 0.0012 - val_loss: 0.0054\n",
            "Epoch 23/100\n",
            "19/19 [==============================] - 0s 5ms/step - loss: 0.0013 - val_loss: 0.0050\n",
            "Epoch 24/100\n",
            "19/19 [==============================] - 0s 4ms/step - loss: 9.8892e-04 - val_loss: 0.0054\n",
            "Epoch 25/100\n",
            "19/19 [==============================] - 0s 4ms/step - loss: 9.6024e-04 - val_loss: 0.0051\n",
            "Epoch 26/100\n",
            "19/19 [==============================] - 0s 4ms/step - loss: 8.9940e-04 - val_loss: 0.0052\n",
            "Epoch 27/100\n",
            "19/19 [==============================] - 0s 4ms/step - loss: 9.1714e-04 - val_loss: 0.0057\n",
            "Epoch 28/100\n",
            "19/19 [==============================] - 0s 4ms/step - loss: 0.0010 - val_loss: 0.0052\n",
            "Epoch 29/100\n",
            "19/19 [==============================] - 0s 4ms/step - loss: 8.3028e-04 - val_loss: 0.0057\n",
            "Epoch 30/100\n",
            "19/19 [==============================] - 0s 5ms/step - loss: 9.2444e-04 - val_loss: 0.0052\n",
            "Epoch 31/100\n",
            "19/19 [==============================] - 0s 4ms/step - loss: 8.6702e-04 - val_loss: 0.0055\n",
            "Epoch 32/100\n",
            "19/19 [==============================] - 0s 4ms/step - loss: 9.2816e-04 - val_loss: 0.0055\n",
            "Epoch 33/100\n",
            "19/19 [==============================] - 0s 4ms/step - loss: 9.9060e-04 - val_loss: 0.0058\n",
            "Epoch 34/100\n",
            "19/19 [==============================] - 0s 4ms/step - loss: 0.0010 - val_loss: 0.0055\n",
            "Epoch 35/100\n",
            "19/19 [==============================] - 0s 5ms/step - loss: 8.7376e-04 - val_loss: 0.0056\n",
            "Epoch 36/100\n",
            "19/19 [==============================] - 0s 4ms/step - loss: 8.2602e-04 - val_loss: 0.0055\n",
            "Epoch 37/100\n",
            "19/19 [==============================] - 0s 4ms/step - loss: 9.3890e-04 - val_loss: 0.0054\n",
            "Epoch 38/100\n",
            "19/19 [==============================] - 0s 4ms/step - loss: 9.7074e-04 - val_loss: 0.0051\n",
            "Epoch 39/100\n",
            "19/19 [==============================] - 0s 4ms/step - loss: 8.3513e-04 - val_loss: 0.0060\n",
            "Epoch 40/100\n",
            "19/19 [==============================] - 0s 4ms/step - loss: 7.8716e-04 - val_loss: 0.0055\n",
            "Epoch 41/100\n",
            "19/19 [==============================] - 0s 4ms/step - loss: 7.3292e-04 - val_loss: 0.0060\n",
            "Epoch 42/100\n",
            "19/19 [==============================] - 0s 4ms/step - loss: 6.3284e-04 - val_loss: 0.0055\n",
            "Epoch 43/100\n",
            "19/19 [==============================] - 0s 4ms/step - loss: 5.2601e-04 - val_loss: 0.0054\n",
            "Epoch 44/100\n",
            "19/19 [==============================] - 0s 5ms/step - loss: 6.1776e-04 - val_loss: 0.0055\n",
            "Epoch 45/100\n",
            "19/19 [==============================] - 0s 4ms/step - loss: 6.1987e-04 - val_loss: 0.0058\n",
            "Epoch 46/100\n",
            "19/19 [==============================] - 0s 4ms/step - loss: 4.4639e-04 - val_loss: 0.0055\n",
            "Epoch 47/100\n",
            "19/19 [==============================] - 0s 4ms/step - loss: 4.3886e-04 - val_loss: 0.0053\n",
            "Epoch 48/100\n",
            "19/19 [==============================] - 0s 4ms/step - loss: 5.1404e-04 - val_loss: 0.0055\n",
            "Epoch 49/100\n",
            "19/19 [==============================] - 0s 4ms/step - loss: 3.7767e-04 - val_loss: 0.0056\n",
            "Epoch 50/100\n",
            "19/19 [==============================] - 0s 4ms/step - loss: 5.0578e-04 - val_loss: 0.0058\n",
            "Epoch 51/100\n",
            "19/19 [==============================] - 0s 4ms/step - loss: 4.7146e-04 - val_loss: 0.0054\n",
            "Epoch 52/100\n",
            "19/19 [==============================] - 0s 4ms/step - loss: 4.2466e-04 - val_loss: 0.0054\n",
            "Epoch 53/100\n",
            "19/19 [==============================] - 0s 4ms/step - loss: 4.8030e-04 - val_loss: 0.0060\n",
            "Epoch 54/100\n",
            "19/19 [==============================] - 0s 5ms/step - loss: 5.4595e-04 - val_loss: 0.0057\n",
            "Epoch 55/100\n",
            "19/19 [==============================] - 0s 4ms/step - loss: 4.7142e-04 - val_loss: 0.0056\n",
            "Epoch 56/100\n",
            "19/19 [==============================] - 0s 4ms/step - loss: 3.6654e-04 - val_loss: 0.0058\n",
            "Epoch 57/100\n",
            "19/19 [==============================] - 0s 4ms/step - loss: 3.9507e-04 - val_loss: 0.0054\n",
            "Epoch 58/100\n",
            "19/19 [==============================] - 0s 4ms/step - loss: 4.2602e-04 - val_loss: 0.0056\n",
            "Epoch 59/100\n",
            "19/19 [==============================] - 0s 4ms/step - loss: 2.8744e-04 - val_loss: 0.0054\n",
            "Epoch 60/100\n",
            "19/19 [==============================] - 0s 4ms/step - loss: 3.4037e-04 - val_loss: 0.0060\n",
            "Epoch 61/100\n",
            "19/19 [==============================] - 0s 4ms/step - loss: 4.4676e-04 - val_loss: 0.0055\n",
            "Epoch 62/100\n",
            "19/19 [==============================] - 0s 4ms/step - loss: 3.9209e-04 - val_loss: 0.0052\n",
            "Epoch 63/100\n",
            "19/19 [==============================] - 0s 4ms/step - loss: 4.1028e-04 - val_loss: 0.0057\n",
            "Epoch 64/100\n",
            "19/19 [==============================] - 0s 4ms/step - loss: 4.1900e-04 - val_loss: 0.0058\n",
            "Epoch 65/100\n",
            "19/19 [==============================] - 0s 4ms/step - loss: 4.3447e-04 - val_loss: 0.0058\n",
            "Epoch 66/100\n",
            "19/19 [==============================] - 0s 4ms/step - loss: 4.4530e-04 - val_loss: 0.0058\n",
            "Epoch 67/100\n",
            "19/19 [==============================] - 0s 4ms/step - loss: 4.4086e-04 - val_loss: 0.0056\n",
            "Epoch 68/100\n",
            "19/19 [==============================] - 0s 4ms/step - loss: 5.5036e-04 - val_loss: 0.0058\n",
            "Epoch 69/100\n",
            "19/19 [==============================] - 0s 4ms/step - loss: 6.7831e-04 - val_loss: 0.0060\n",
            "Epoch 70/100\n",
            "19/19 [==============================] - 0s 4ms/step - loss: 5.1906e-04 - val_loss: 0.0056\n",
            "Epoch 71/100\n",
            "19/19 [==============================] - 0s 4ms/step - loss: 5.5456e-04 - val_loss: 0.0064\n",
            "Epoch 72/100\n",
            "19/19 [==============================] - 0s 4ms/step - loss: 6.9168e-04 - val_loss: 0.0052\n",
            "Epoch 73/100\n",
            "19/19 [==============================] - 0s 4ms/step - loss: 4.7661e-04 - val_loss: 0.0055\n",
            "Epoch 74/100\n",
            "19/19 [==============================] - 0s 4ms/step - loss: 3.7913e-04 - val_loss: 0.0055\n",
            "Epoch 75/100\n",
            "19/19 [==============================] - 0s 4ms/step - loss: 3.6243e-04 - val_loss: 0.0053\n",
            "Epoch 76/100\n",
            "19/19 [==============================] - 0s 4ms/step - loss: 3.7358e-04 - val_loss: 0.0060\n",
            "Epoch 77/100\n",
            "19/19 [==============================] - 0s 5ms/step - loss: 4.2981e-04 - val_loss: 0.0054\n",
            "Epoch 78/100\n",
            "19/19 [==============================] - 0s 4ms/step - loss: 4.5101e-04 - val_loss: 0.0057\n",
            "Epoch 79/100\n",
            "19/19 [==============================] - 0s 4ms/step - loss: 3.2539e-04 - val_loss: 0.0058\n",
            "Epoch 80/100\n",
            "19/19 [==============================] - 0s 4ms/step - loss: 2.9140e-04 - val_loss: 0.0057\n",
            "Epoch 81/100\n",
            "19/19 [==============================] - 0s 4ms/step - loss: 2.3227e-04 - val_loss: 0.0056\n",
            "Epoch 82/100\n",
            "19/19 [==============================] - 0s 4ms/step - loss: 2.6587e-04 - val_loss: 0.0057\n",
            "Epoch 83/100\n",
            "19/19 [==============================] - 0s 4ms/step - loss: 5.3018e-04 - val_loss: 0.0063\n",
            "Epoch 84/100\n",
            "19/19 [==============================] - 0s 4ms/step - loss: 5.8119e-04 - val_loss: 0.0061\n",
            "Epoch 85/100\n",
            "19/19 [==============================] - 0s 4ms/step - loss: 3.7628e-04 - val_loss: 0.0057\n",
            "Epoch 86/100\n",
            "19/19 [==============================] - 0s 4ms/step - loss: 3.3960e-04 - val_loss: 0.0058\n",
            "Epoch 87/100\n",
            "19/19 [==============================] - 0s 4ms/step - loss: 3.8847e-04 - val_loss: 0.0059\n",
            "Epoch 88/100\n",
            "19/19 [==============================] - 0s 4ms/step - loss: 3.2177e-04 - val_loss: 0.0059\n",
            "Epoch 89/100\n",
            "19/19 [==============================] - 0s 4ms/step - loss: 3.2054e-04 - val_loss: 0.0061\n",
            "Epoch 90/100\n",
            "19/19 [==============================] - 0s 4ms/step - loss: 3.6712e-04 - val_loss: 0.0062\n",
            "Epoch 91/100\n",
            "19/19 [==============================] - 0s 5ms/step - loss: 3.3595e-04 - val_loss: 0.0061\n",
            "Epoch 92/100\n",
            "19/19 [==============================] - 0s 4ms/step - loss: 5.7348e-04 - val_loss: 0.0061\n",
            "Epoch 93/100\n",
            "19/19 [==============================] - 0s 4ms/step - loss: 6.4846e-04 - val_loss: 0.0057\n",
            "Epoch 94/100\n",
            "19/19 [==============================] - 0s 4ms/step - loss: 5.5086e-04 - val_loss: 0.0059\n",
            "Epoch 95/100\n",
            "19/19 [==============================] - 0s 4ms/step - loss: 4.7785e-04 - val_loss: 0.0061\n",
            "Epoch 96/100\n",
            "19/19 [==============================] - 0s 4ms/step - loss: 4.6267e-04 - val_loss: 0.0060\n",
            "Epoch 97/100\n",
            "19/19 [==============================] - 0s 4ms/step - loss: 5.2925e-04 - val_loss: 0.0065\n",
            "Epoch 98/100\n",
            "19/19 [==============================] - 0s 4ms/step - loss: 5.0504e-04 - val_loss: 0.0058\n",
            "Epoch 99/100\n",
            "19/19 [==============================] - 0s 4ms/step - loss: 6.4698e-04 - val_loss: 0.0058\n",
            "Epoch 100/100\n",
            "19/19 [==============================] - 0s 4ms/step - loss: 6.1388e-04 - val_loss: 0.0057\n"
          ],
          "name": "stdout"
        },
        {
          "output_type": "execute_result",
          "data": {
            "text/plain": [
              "<tensorflow.python.keras.callbacks.History at 0x7f2c673e7160>"
            ]
          },
          "metadata": {
            "tags": []
          },
          "execution_count": 51
        }
      ]
    },
    {
      "cell_type": "code",
      "metadata": {
        "id": "uXWGHsgp3OMl",
        "colab": {
          "base_uri": "https://localhost:8080/",
          "height": 34
        },
        "outputId": "afc845f6-9cae-4c80-fbc3-05f006d85b08"
      },
      "source": [
        "result=model.evaluate(x_test_scale,ytest)"
      ],
      "execution_count": null,
      "outputs": [
        {
          "output_type": "stream",
          "text": [
            "4/4 [==============================] - 0s 2ms/step - loss: 0.0057\n"
          ],
          "name": "stdout"
        }
      ]
    },
    {
      "cell_type": "code",
      "metadata": {
        "id": "0rWL5qZQYk70"
      },
      "source": [
        "accuracy1=1 - result"
      ],
      "execution_count": null,
      "outputs": []
    },
    {
      "cell_type": "code",
      "metadata": {
        "id": "gnJHfI3aYtDr",
        "colab": {
          "base_uri": "https://localhost:8080/",
          "height": 34
        },
        "outputId": "1b3fecb5-37ac-4506-8e7a-9a782e04312a"
      },
      "source": [
        "accuracy1"
      ],
      "execution_count": null,
      "outputs": [
        {
          "output_type": "execute_result",
          "data": {
            "text/plain": [
              "0.9943387024104595"
            ]
          },
          "metadata": {
            "tags": []
          },
          "execution_count": 54
        }
      ]
    },
    {
      "cell_type": "code",
      "metadata": {
        "id": "_5CrpqdxZSY8"
      },
      "source": [
        "yp=model.predict(x_test_scale)"
      ],
      "execution_count": null,
      "outputs": []
    },
    {
      "cell_type": "code",
      "metadata": {
        "id": "VFSzpWaObBM0",
        "colab": {
          "base_uri": "https://localhost:8080/",
          "height": 1000
        },
        "outputId": "ebaff58e-fcf7-45b5-90ed-25e8e4681e2f"
      },
      "source": [
        "yp"
      ],
      "execution_count": null,
      "outputs": [
        {
          "output_type": "execute_result",
          "data": {
            "text/plain": [
              "array([[0.69300145],\n",
              "       [0.8676293 ],\n",
              "       [0.8027012 ],\n",
              "       [0.87203413],\n",
              "       [0.58187425],\n",
              "       [0.63230956],\n",
              "       [0.56531733],\n",
              "       [0.729121  ],\n",
              "       [0.55309856],\n",
              "       [0.7672278 ],\n",
              "       [0.58549184],\n",
              "       [0.74336183],\n",
              "       [0.564007  ],\n",
              "       [0.73472726],\n",
              "       [0.89732754],\n",
              "       [0.5172542 ],\n",
              "       [0.7849274 ],\n",
              "       [0.6168554 ],\n",
              "       [0.77637875],\n",
              "       [0.7177971 ],\n",
              "       [0.607265  ],\n",
              "       [0.76850533],\n",
              "       [0.53063685],\n",
              "       [0.936602  ],\n",
              "       [0.8387047 ],\n",
              "       [0.72973824],\n",
              "       [0.79399073],\n",
              "       [0.5390047 ],\n",
              "       [0.5512492 ],\n",
              "       [0.57307655],\n",
              "       [0.72275084],\n",
              "       [0.56633157],\n",
              "       [0.61336243],\n",
              "       [0.8476989 ],\n",
              "       [0.61669445],\n",
              "       [0.58256197],\n",
              "       [0.8332449 ],\n",
              "       [0.87674206],\n",
              "       [0.68438745],\n",
              "       [0.6203365 ],\n",
              "       [0.6902305 ],\n",
              "       [0.89356714],\n",
              "       [0.8069694 ],\n",
              "       [0.71133184],\n",
              "       [0.5442059 ],\n",
              "       [0.77837527],\n",
              "       [0.9510063 ],\n",
              "       [0.7638943 ],\n",
              "       [0.7232028 ],\n",
              "       [0.60016125],\n",
              "       [0.68318594],\n",
              "       [0.6563588 ],\n",
              "       [0.58160484],\n",
              "       [0.7765709 ],\n",
              "       [0.6549773 ],\n",
              "       [0.8437432 ],\n",
              "       [0.5004917 ],\n",
              "       [0.88882065],\n",
              "       [0.5968373 ],\n",
              "       [0.63829994],\n",
              "       [0.37967008],\n",
              "       [0.9151647 ],\n",
              "       [0.6691667 ],\n",
              "       [0.89535487],\n",
              "       [0.7031068 ],\n",
              "       [0.6029555 ],\n",
              "       [0.7674768 ],\n",
              "       [0.8002614 ],\n",
              "       [0.53033155],\n",
              "       [0.7434634 ],\n",
              "       [0.90529895],\n",
              "       [0.79969835],\n",
              "       [0.70740426],\n",
              "       [0.6087483 ],\n",
              "       [0.72762775],\n",
              "       [0.9089637 ],\n",
              "       [0.73012877],\n",
              "       [0.71094537],\n",
              "       [0.55542713],\n",
              "       [0.63466024],\n",
              "       [0.57287335],\n",
              "       [0.8776405 ],\n",
              "       [0.6456493 ],\n",
              "       [0.7111429 ],\n",
              "       [0.6191269 ],\n",
              "       [0.5435074 ],\n",
              "       [0.81216663],\n",
              "       [0.63943756],\n",
              "       [0.47207278],\n",
              "       [0.6763945 ],\n",
              "       [0.74649596],\n",
              "       [0.7271062 ],\n",
              "       [0.66101414],\n",
              "       [0.72202015],\n",
              "       [0.5936972 ],\n",
              "       [0.8761317 ],\n",
              "       [0.6958344 ],\n",
              "       [0.5720518 ],\n",
              "       [0.5974003 ],\n",
              "       [0.54495454],\n",
              "       [0.91909903],\n",
              "       [0.70725656],\n",
              "       [0.94638854],\n",
              "       [0.64347935],\n",
              "       [0.7183609 ],\n",
              "       [0.5690072 ],\n",
              "       [0.6389815 ],\n",
              "       [0.8511944 ],\n",
              "       [0.74081135],\n",
              "       [0.7344619 ],\n",
              "       [0.47603154],\n",
              "       [0.61161125],\n",
              "       [0.6196865 ],\n",
              "       [0.5256855 ],\n",
              "       [0.6208876 ],\n",
              "       [0.83319616],\n",
              "       [0.49200445],\n",
              "       [0.9674704 ],\n",
              "       [0.80959857],\n",
              "       [0.8912004 ],\n",
              "       [0.5895646 ],\n",
              "       [0.77306587],\n",
              "       [0.8679844 ],\n",
              "       [0.8224423 ],\n",
              "       [0.5447992 ]], dtype=float32)"
            ]
          },
          "metadata": {
            "tags": []
          },
          "execution_count": 56
        }
      ]
    },
    {
      "cell_type": "code",
      "metadata": {
        "id": "AAfueuPKbep3",
        "colab": {
          "base_uri": "https://localhost:8080/",
          "height": 1000
        },
        "outputId": "583d92c8-0ead-4921-91fd-c435d37ea654"
      },
      "source": [
        "ytest"
      ],
      "execution_count": null,
      "outputs": [
        {
          "output_type": "execute_result",
          "data": {
            "text/plain": [
              "array([[0.64],\n",
              "       [0.85],\n",
              "       [0.8 ],\n",
              "       [0.91],\n",
              "       [0.68],\n",
              "       [0.54],\n",
              "       [0.54],\n",
              "       [0.65],\n",
              "       [0.52],\n",
              "       [0.79],\n",
              "       [0.65],\n",
              "       [0.74],\n",
              "       [0.64],\n",
              "       [0.79],\n",
              "       [0.89],\n",
              "       [0.43],\n",
              "       [0.81],\n",
              "       [0.73],\n",
              "       [0.8 ],\n",
              "       [0.58],\n",
              "       [0.57],\n",
              "       [0.74],\n",
              "       [0.6 ],\n",
              "       [0.93],\n",
              "       [0.88],\n",
              "       [0.67],\n",
              "       [0.7 ],\n",
              "       [0.57],\n",
              "       [0.48],\n",
              "       [0.64],\n",
              "       [0.69],\n",
              "       [0.47],\n",
              "       [0.57],\n",
              "       [0.87],\n",
              "       [0.39],\n",
              "       [0.53],\n",
              "       [0.84],\n",
              "       [0.89],\n",
              "       [0.63],\n",
              "       [0.7 ],\n",
              "       [0.72],\n",
              "       [0.86],\n",
              "       [0.91],\n",
              "       [0.75],\n",
              "       [0.74],\n",
              "       [0.76],\n",
              "       [0.96],\n",
              "       [0.81],\n",
              "       [0.6 ],\n",
              "       [0.62],\n",
              "       [0.69],\n",
              "       [0.68],\n",
              "       [0.59],\n",
              "       [0.8 ],\n",
              "       [0.71],\n",
              "       [0.78],\n",
              "       [0.69],\n",
              "       [0.89],\n",
              "       [0.67],\n",
              "       [0.58],\n",
              "       [0.44],\n",
              "       [0.89],\n",
              "       [0.53],\n",
              "       [0.92],\n",
              "       [0.66],\n",
              "       [0.73],\n",
              "       [0.52],\n",
              "       [0.86],\n",
              "       [0.54],\n",
              "       [0.72],\n",
              "       [0.92],\n",
              "       [0.55],\n",
              "       [0.75],\n",
              "       [0.73],\n",
              "       [0.85],\n",
              "       [0.91],\n",
              "       [0.75],\n",
              "       [0.71],\n",
              "       [0.54],\n",
              "       [0.68],\n",
              "       [0.62],\n",
              "       [0.88],\n",
              "       [0.59],\n",
              "       [0.74],\n",
              "       [0.8 ],\n",
              "       [0.63],\n",
              "       [0.77],\n",
              "       [0.65],\n",
              "       [0.57],\n",
              "       [0.7 ],\n",
              "       [0.76],\n",
              "       [0.78],\n",
              "       [0.71],\n",
              "       [0.73],\n",
              "       [0.73],\n",
              "       [0.95],\n",
              "       [0.64],\n",
              "       [0.53],\n",
              "       [0.48],\n",
              "       [0.64],\n",
              "       [0.91],\n",
              "       [0.72],\n",
              "       [0.96],\n",
              "       [0.67],\n",
              "       [0.75],\n",
              "       [0.59],\n",
              "       [0.72],\n",
              "       [0.85],\n",
              "       [0.71],\n",
              "       [0.77],\n",
              "       [0.49],\n",
              "       [0.68],\n",
              "       [0.71],\n",
              "       [0.5 ],\n",
              "       [0.57],\n",
              "       [0.86],\n",
              "       [0.38],\n",
              "       [0.94],\n",
              "       [0.79],\n",
              "       [0.93],\n",
              "       [0.74],\n",
              "       [0.78],\n",
              "       [0.89],\n",
              "       [0.86],\n",
              "       [0.49]])"
            ]
          },
          "metadata": {
            "tags": []
          },
          "execution_count": 57
        }
      ]
    },
    {
      "cell_type": "code",
      "metadata": {
        "id": "1SjPmvm2bg4n"
      },
      "source": [
        "xx=scale.transform([[299,100,1,1.5,2.0,7.89]])"
      ],
      "execution_count": null,
      "outputs": []
    },
    {
      "cell_type": "code",
      "metadata": {
        "id": "mfaP88UEeTSB",
        "colab": {
          "base_uri": "https://localhost:8080/",
          "height": 51
        },
        "outputId": "bc41c1ca-b901-45ce-88d7-d430006ac8c8"
      },
      "source": [
        "xx"
      ],
      "execution_count": null,
      "outputs": [
        {
          "output_type": "execute_result",
          "data": {
            "text/plain": [
              "array([[-1.57884335, -1.17111757, -1.88482457, -1.93767618, -1.65378367,\n",
              "        -1.17809274]])"
            ]
          },
          "metadata": {
            "tags": []
          },
          "execution_count": 59
        }
      ]
    },
    {
      "cell_type": "code",
      "metadata": {
        "id": "JDUtK1pCeV9f",
        "colab": {
          "base_uri": "https://localhost:8080/",
          "height": 34
        },
        "outputId": "59f3c896-b54f-4b18-8a92-a78e3522961a"
      },
      "source": [
        "model.predict(xx)"
      ],
      "execution_count": null,
      "outputs": [
        {
          "output_type": "execute_result",
          "data": {
            "text/plain": [
              "array([[0.5516888]], dtype=float32)"
            ]
          },
          "metadata": {
            "tags": []
          },
          "execution_count": 60
        }
      ]
    },
    {
      "cell_type": "code",
      "metadata": {
        "id": "NFpdS3Edewal"
      },
      "source": [
        "import pickle"
      ],
      "execution_count": null,
      "outputs": []
    },
    {
      "cell_type": "code",
      "metadata": {
        "id": "2hQdmcw3e0E5"
      },
      "source": [
        "pickle.dump(scale,open(\"mymodel.pkl\",\"wb\"))"
      ],
      "execution_count": null,
      "outputs": []
    },
    {
      "cell_type": "code",
      "metadata": {
        "id": "L0hYfpiofCmj"
      },
      "source": [
        "mm=pickle.load(open(\"/content/mymodel.pkl\",\"rb\"))"
      ],
      "execution_count": null,
      "outputs": []
    },
    {
      "cell_type": "code",
      "metadata": {
        "id": "j5Zzmj4ChRhf",
        "colab": {
          "base_uri": "https://localhost:8080/",
          "height": 105
        },
        "outputId": "5c38dc63-a2c8-454f-b7bc-458c4cf9da6a"
      },
      "source": [
        "!mkdir -p saved_model\n",
        "model.save('saved_model/model')"
      ],
      "execution_count": null,
      "outputs": [
        {
          "output_type": "stream",
          "text": [
            "WARNING:tensorflow:From /usr/local/lib/python3.6/dist-packages/tensorflow/python/ops/resource_variable_ops.py:1817: calling BaseResourceVariable.__init__ (from tensorflow.python.ops.resource_variable_ops) with constraint is deprecated and will be removed in a future version.\n",
            "Instructions for updating:\n",
            "If using Keras pass *_constraint arguments to layers.\n",
            "INFO:tensorflow:Assets written to: saved_model/model/assets\n"
          ],
          "name": "stdout"
        }
      ]
    },
    {
      "cell_type": "code",
      "metadata": {
        "id": "thl1flq0hYu4"
      },
      "source": [
        "new_model=tf.keras.models.load_model(\"/content/saved_model/model\")"
      ],
      "execution_count": null,
      "outputs": []
    },
    {
      "cell_type": "code",
      "metadata": {
        "id": "PJRthxxohbgr",
        "colab": {
          "base_uri": "https://localhost:8080/",
          "height": 51
        },
        "outputId": "d8b1d787-e326-4352-a03f-c7ea91dc64bd"
      },
      "source": [
        "new_model.evaluate(x_test_scale,ytest)"
      ],
      "execution_count": null,
      "outputs": [
        {
          "output_type": "stream",
          "text": [
            "4/4 [==============================] - 0s 2ms/step - loss: 0.0057\n"
          ],
          "name": "stdout"
        },
        {
          "output_type": "execute_result",
          "data": {
            "text/plain": [
              "0.005661297589540482"
            ]
          },
          "metadata": {
            "tags": []
          },
          "execution_count": 66
        }
      ]
    },
    {
      "cell_type": "code",
      "metadata": {
        "id": "9SPLYuZNhiFO"
      },
      "source": [
        "from flask import Flask,request,render_template\n",
        "from flask_ngrok import run_with_ngrok"
      ],
      "execution_count": null,
      "outputs": []
    },
    {
      "cell_type": "code",
      "metadata": {
        "id": "cNKA2vxnOkGm",
        "colab": {
          "base_uri": "https://localhost:8080/",
          "height": 292
        },
        "outputId": "9ffeb7b6-0e28-4e2b-ea97-372561d834c2"
      },
      "source": [
        "pip install flask_ngrok"
      ],
      "execution_count": null,
      "outputs": [
        {
          "output_type": "stream",
          "text": [
            "Collecting flask_ngrok\n",
            "  Downloading https://files.pythonhosted.org/packages/af/6c/f54cb686ad1129e27d125d182f90f52b32f284e6c8df58c1bae54fa1adbc/flask_ngrok-0.0.25-py3-none-any.whl\n",
            "Requirement already satisfied: Flask>=0.8 in /usr/local/lib/python3.6/dist-packages (from flask_ngrok) (1.1.2)\n",
            "Requirement already satisfied: requests in /usr/local/lib/python3.6/dist-packages (from flask_ngrok) (2.23.0)\n",
            "Requirement already satisfied: click>=5.1 in /usr/local/lib/python3.6/dist-packages (from Flask>=0.8->flask_ngrok) (7.1.2)\n",
            "Requirement already satisfied: itsdangerous>=0.24 in /usr/local/lib/python3.6/dist-packages (from Flask>=0.8->flask_ngrok) (1.1.0)\n",
            "Requirement already satisfied: Jinja2>=2.10.1 in /usr/local/lib/python3.6/dist-packages (from Flask>=0.8->flask_ngrok) (2.11.2)\n",
            "Requirement already satisfied: Werkzeug>=0.15 in /usr/local/lib/python3.6/dist-packages (from Flask>=0.8->flask_ngrok) (1.0.1)\n",
            "Requirement already satisfied: certifi>=2017.4.17 in /usr/local/lib/python3.6/dist-packages (from requests->flask_ngrok) (2020.6.20)\n",
            "Requirement already satisfied: idna<3,>=2.5 in /usr/local/lib/python3.6/dist-packages (from requests->flask_ngrok) (2.9)\n",
            "Requirement already satisfied: urllib3!=1.25.0,!=1.25.1,<1.26,>=1.21.1 in /usr/local/lib/python3.6/dist-packages (from requests->flask_ngrok) (1.24.3)\n",
            "Requirement already satisfied: chardet<4,>=3.0.2 in /usr/local/lib/python3.6/dist-packages (from requests->flask_ngrok) (3.0.4)\n",
            "Requirement already satisfied: MarkupSafe>=0.23 in /usr/local/lib/python3.6/dist-packages (from Jinja2>=2.10.1->Flask>=0.8->flask_ngrok) (1.1.1)\n",
            "Installing collected packages: flask-ngrok\n",
            "Successfully installed flask-ngrok-0.0.25\n"
          ],
          "name": "stdout"
        }
      ]
    },
    {
      "cell_type": "code",
      "metadata": {
        "id": "rR8eHSYxLoYB",
        "colab": {
          "base_uri": "https://localhost:8080/",
          "height": 714
        },
        "outputId": "41304791-36b2-44d4-fba7-2a4e0a926c03"
      },
      "source": [
        "app=Flask(__name__)\n",
        "run_with_ngrok(app)\n",
        "@app.route(\"/\")\n",
        "def fun():\n",
        "  return render_template(\"/content/sample_data/templates/titanic.html\")\n",
        "@app.route(\"/predict\",methods=[\"post\"])\n",
        "def fun1():\n",
        "  gre=int(request.form[\"gre\"])\n",
        "  TOEFL=int(request.form[\"TOEFL\"])\n",
        "  Rating=int(request.form[\"Rating\"])\n",
        "  SOP=float(request.form[\"SOP\"])\n",
        "  LOR=float(request.form[\"LOR\"])\n",
        "  CGPA=float(request.form[\"CGPA\"])\n",
        "  scale=pickle.load(open(\"/content/mymodel.pkl\",\"rb\"))\n",
        "  xx=scale.transform([[gre,TOEFL,Rating,SOP,LOR,CGPA]])\n",
        "  new_model=tf.keras.models.load_model(\"/content/saved_model/model\")\n",
        "  yy=new_model.predict(xx)\n",
        "  return \"predicted value is {}\".format(yy)\n",
        "app.run()\n"
      ],
      "execution_count": null,
      "outputs": [
        {
          "output_type": "stream",
          "text": [
            " * Serving Flask app \"__main__\" (lazy loading)\n",
            " * Environment: production\n",
            "\u001b[31m   WARNING: This is a development server. Do not use it in a production deployment.\u001b[0m\n",
            "\u001b[2m   Use a production WSGI server instead.\u001b[0m\n",
            " * Debug mode: off\n"
          ],
          "name": "stdout"
        },
        {
          "output_type": "stream",
          "text": [
            " * Running on http://127.0.0.1:5000/ (Press CTRL+C to quit)\n"
          ],
          "name": "stderr"
        },
        {
          "output_type": "stream",
          "text": [
            " * Running on http://303b759f4676.ngrok.io\n",
            " * Traffic stats available on http://127.0.0.1:4040\n"
          ],
          "name": "stdout"
        },
        {
          "output_type": "stream",
          "text": [
            "[2020-07-08 17:48:16,139] ERROR in app: Exception on / [GET]\n",
            "Traceback (most recent call last):\n",
            "  File \"/usr/local/lib/python3.6/dist-packages/flask/app.py\", line 2447, in wsgi_app\n",
            "    response = self.full_dispatch_request()\n",
            "  File \"/usr/local/lib/python3.6/dist-packages/flask/app.py\", line 1952, in full_dispatch_request\n",
            "    rv = self.handle_user_exception(e)\n",
            "  File \"/usr/local/lib/python3.6/dist-packages/flask/app.py\", line 1821, in handle_user_exception\n",
            "    reraise(exc_type, exc_value, tb)\n",
            "  File \"/usr/local/lib/python3.6/dist-packages/flask/_compat.py\", line 39, in reraise\n",
            "    raise value\n",
            "  File \"/usr/local/lib/python3.6/dist-packages/flask/app.py\", line 1950, in full_dispatch_request\n",
            "    rv = self.dispatch_request()\n",
            "  File \"/usr/local/lib/python3.6/dist-packages/flask/app.py\", line 1936, in dispatch_request\n",
            "    return self.view_functions[rule.endpoint](**req.view_args)\n",
            "  File \"<ipython-input-75-da3f30efb135>\", line 5, in fun\n",
            "    return render_template(\"/content/sample_data/templates/titanic.html\")\n",
            "  File \"/usr/local/lib/python3.6/dist-packages/flask/templating.py\", line 138, in render_template\n",
            "    ctx.app.jinja_env.get_or_select_template(template_name_or_list),\n",
            "  File \"/usr/local/lib/python3.6/dist-packages/jinja2/environment.py\", line 930, in get_or_select_template\n",
            "    return self.get_template(template_name_or_list, parent, globals)\n",
            "  File \"/usr/local/lib/python3.6/dist-packages/jinja2/environment.py\", line 883, in get_template\n",
            "    return self._load_template(name, self.make_globals(globals))\n",
            "  File \"/usr/local/lib/python3.6/dist-packages/jinja2/environment.py\", line 857, in _load_template\n",
            "    template = self.loader.load(self, name, globals)\n",
            "  File \"/usr/local/lib/python3.6/dist-packages/jinja2/loaders.py\", line 115, in load\n",
            "    source, filename, uptodate = self.get_source(environment, name)\n",
            "  File \"/usr/local/lib/python3.6/dist-packages/flask/templating.py\", line 60, in get_source\n",
            "    return self._get_source_fast(environment, template)\n",
            "  File \"/usr/local/lib/python3.6/dist-packages/flask/templating.py\", line 89, in _get_source_fast\n",
            "    raise TemplateNotFound(template)\n",
            "jinja2.exceptions.TemplateNotFound: /content/sample_data/templates/titanic.html\n",
            "127.0.0.1 - - [08/Jul/2020 17:48:16] \"\u001b[35m\u001b[1mGET / HTTP/1.1\u001b[0m\" 500 -\n",
            "127.0.0.1 - - [08/Jul/2020 17:48:16] \"\u001b[33mGET /favicon.ico HTTP/1.1\u001b[0m\" 404 -\n"
          ],
          "name": "stderr"
        }
      ]
    },
    {
      "cell_type": "code",
      "metadata": {
        "id": "WnFgKtCeB-4l"
      },
      "source": [],
      "execution_count": null,
      "outputs": []
    },
    {
      "cell_type": "code",
      "metadata": {
        "id": "QQEPIgVrkZtR"
      },
      "source": [],
      "execution_count": null,
      "outputs": []
    },
    {
      "cell_type": "code",
      "metadata": {
        "id": "iRx8lmIDDQSV"
      },
      "source": [],
      "execution_count": null,
      "outputs": []
    },
    {
      "cell_type": "code",
      "metadata": {
        "id": "2Yo1pCaJCEkb"
      },
      "source": [],
      "execution_count": null,
      "outputs": []
    }
  ]
}